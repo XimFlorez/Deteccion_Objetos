{
 "cells": [
  {
   "cell_type": "markdown",
   "id": "c290b068",
   "metadata": {},
   "source": [
    "*DETECCIÓN Y CONTEO DE OBJETOS EN PYTHON:*"
   ]
  },
  {
   "cell_type": "markdown",
   "id": "a82ed6e7",
   "metadata": {},
   "source": [
    "Comando que se utiliza en entornos de Python como Jupyter Notebook, Google Colab o entornos compatibles con IPython."
   ]
  },
  {
   "cell_type": "markdown",
   "id": "ff997b80",
   "metadata": {},
   "source": [
    "*PIP INSTALL* =  gestor de paquetes de Python. Se utiliza para instalar, actualizar y gestionar paquetes (librerías) desde el repositorio oficial de Python, llamado PyPI (Python Package Index)."
   ]
  },
  {
   "cell_type": "markdown",
   "id": "a72a3f0d",
   "metadata": {},
   "source": [
    "*ULTRALYTICS* =  paquete que contiene herramientas desarrolladas por la empresa Ultralytics, conocida especialmente por sus modelos de detección de objetos YOLO (You Only Look Once). En este caso se usa para la 'detección de objetos'."
   ]
  },
  {
   "cell_type": "markdown",
   "id": "12e1b6ba",
   "metadata": {},
   "source": [
    "*OPENCV-PYTHON* = instala OpenCV (Open Source Computer Vision Library) para Python, que es una de las bibliotecas más poderosas y ampliamente utilizadas en visión por computadora. En este caso se usa para procesar imágenes: detectar bordes, colores, formas, rostros, etc y trabajar con cámara en tiempo real."
   ]
  },
  {
   "cell_type": "code",
   "execution_count": 1,
   "id": "24ec5114",
   "metadata": {},
   "outputs": [
    {
     "name": "stdout",
     "output_type": "stream",
     "text": [
      "Defaulting to user installation because normal site-packages is not writeable\n",
      "Requirement already satisfied: ultralytics in c:\\users\\ximena\\appdata\\roaming\\python\\python312\\site-packages (8.3.105)\n",
      "Requirement already satisfied: opencv-python in c:\\users\\ximena\\appdata\\roaming\\python\\python312\\site-packages (4.11.0.86)\n",
      "Requirement already satisfied: numpy<=2.1.1,>=1.23.0 in c:\\users\\ximena\\appdata\\roaming\\python\\python312\\site-packages (from ultralytics) (2.1.1)\n",
      "Requirement already satisfied: matplotlib>=3.3.0 in c:\\users\\ximena\\appdata\\roaming\\python\\python312\\site-packages (from ultralytics) (3.10.0)\n",
      "Requirement already satisfied: pillow>=7.1.2 in c:\\users\\ximena\\appdata\\roaming\\python\\python312\\site-packages (from ultralytics) (11.1.0)\n",
      "Requirement already satisfied: pyyaml>=5.3.1 in c:\\users\\ximena\\appdata\\roaming\\python\\python312\\site-packages (from ultralytics) (6.0.2)\n",
      "Requirement already satisfied: requests>=2.23.0 in c:\\users\\ximena\\appdata\\roaming\\python\\python312\\site-packages (from ultralytics) (2.32.3)\n",
      "Requirement already satisfied: scipy>=1.4.1 in c:\\users\\ximena\\appdata\\roaming\\python\\python312\\site-packages (from ultralytics) (1.15.2)\n",
      "Requirement already satisfied: torch>=1.8.0 in c:\\users\\ximena\\appdata\\roaming\\python\\python312\\site-packages (from ultralytics) (2.6.0)\n",
      "Requirement already satisfied: torchvision>=0.9.0 in c:\\users\\ximena\\appdata\\roaming\\python\\python312\\site-packages (from ultralytics) (0.21.0)\n",
      "Requirement already satisfied: tqdm>=4.64.0 in c:\\users\\ximena\\appdata\\roaming\\python\\python312\\site-packages (from ultralytics) (4.67.1)\n",
      "Requirement already satisfied: psutil in c:\\users\\ximena\\appdata\\roaming\\python\\python312\\site-packages (from ultralytics) (7.0.0)\n",
      "Requirement already satisfied: py-cpuinfo in c:\\users\\ximena\\appdata\\roaming\\python\\python312\\site-packages (from ultralytics) (9.0.0)\n",
      "Requirement already satisfied: pandas>=1.1.4 in c:\\users\\ximena\\appdata\\roaming\\python\\python312\\site-packages (from ultralytics) (2.2.3)\n",
      "Requirement already satisfied: seaborn>=0.11.0 in c:\\users\\ximena\\appdata\\roaming\\python\\python312\\site-packages (from ultralytics) (0.13.2)\n",
      "Requirement already satisfied: ultralytics-thop>=2.0.0 in c:\\users\\ximena\\appdata\\roaming\\python\\python312\\site-packages (from ultralytics) (2.0.14)\n",
      "Requirement already satisfied: contourpy>=1.0.1 in c:\\users\\ximena\\appdata\\roaming\\python\\python312\\site-packages (from matplotlib>=3.3.0->ultralytics) (1.3.1)\n",
      "Requirement already satisfied: cycler>=0.10 in c:\\users\\ximena\\appdata\\roaming\\python\\python312\\site-packages (from matplotlib>=3.3.0->ultralytics) (0.12.1)\n",
      "Requirement already satisfied: fonttools>=4.22.0 in c:\\users\\ximena\\appdata\\roaming\\python\\python312\\site-packages (from matplotlib>=3.3.0->ultralytics) (4.56.0)\n",
      "Requirement already satisfied: kiwisolver>=1.3.1 in c:\\users\\ximena\\appdata\\roaming\\python\\python312\\site-packages (from matplotlib>=3.3.0->ultralytics) (1.4.8)\n",
      "Requirement already satisfied: packaging>=20.0 in c:\\users\\ximena\\appdata\\roaming\\python\\python312\\site-packages (from matplotlib>=3.3.0->ultralytics) (24.2)\n",
      "Requirement already satisfied: pyparsing>=2.3.1 in c:\\users\\ximena\\appdata\\roaming\\python\\python312\\site-packages (from matplotlib>=3.3.0->ultralytics) (3.2.1)\n",
      "Requirement already satisfied: python-dateutil>=2.7 in c:\\users\\ximena\\appdata\\roaming\\python\\python312\\site-packages (from matplotlib>=3.3.0->ultralytics) (2.9.0.post0)\n",
      "Requirement already satisfied: pytz>=2020.1 in c:\\users\\ximena\\appdata\\roaming\\python\\python312\\site-packages (from pandas>=1.1.4->ultralytics) (2025.1)\n",
      "Requirement already satisfied: tzdata>=2022.7 in c:\\users\\ximena\\appdata\\roaming\\python\\python312\\site-packages (from pandas>=1.1.4->ultralytics) (2025.1)\n",
      "Requirement already satisfied: charset-normalizer<4,>=2 in c:\\users\\ximena\\appdata\\roaming\\python\\python312\\site-packages (from requests>=2.23.0->ultralytics) (3.4.1)\n",
      "Requirement already satisfied: idna<4,>=2.5 in c:\\users\\ximena\\appdata\\roaming\\python\\python312\\site-packages (from requests>=2.23.0->ultralytics) (3.10)\n",
      "Requirement already satisfied: urllib3<3,>=1.21.1 in c:\\users\\ximena\\appdata\\roaming\\python\\python312\\site-packages (from requests>=2.23.0->ultralytics) (2.3.0)\n",
      "Requirement already satisfied: certifi>=2017.4.17 in c:\\users\\ximena\\appdata\\roaming\\python\\python312\\site-packages (from requests>=2.23.0->ultralytics) (2025.1.31)\n",
      "Requirement already satisfied: filelock in c:\\users\\ximena\\appdata\\roaming\\python\\python312\\site-packages (from torch>=1.8.0->ultralytics) (3.18.0)\n",
      "Requirement already satisfied: typing-extensions>=4.10.0 in c:\\users\\ximena\\appdata\\roaming\\python\\python312\\site-packages (from torch>=1.8.0->ultralytics) (4.13.1)\n",
      "Requirement already satisfied: networkx in c:\\users\\ximena\\appdata\\roaming\\python\\python312\\site-packages (from torch>=1.8.0->ultralytics) (3.4.2)\n",
      "Requirement already satisfied: jinja2 in c:\\users\\ximena\\appdata\\roaming\\python\\python312\\site-packages (from torch>=1.8.0->ultralytics) (3.1.6)\n",
      "Requirement already satisfied: fsspec in c:\\users\\ximena\\appdata\\roaming\\python\\python312\\site-packages (from torch>=1.8.0->ultralytics) (2025.3.2)\n",
      "Requirement already satisfied: setuptools in c:\\users\\ximena\\appdata\\roaming\\python\\python312\\site-packages (from torch>=1.8.0->ultralytics) (78.1.0)\n",
      "Requirement already satisfied: sympy==1.13.1 in c:\\users\\ximena\\appdata\\roaming\\python\\python312\\site-packages (from torch>=1.8.0->ultralytics) (1.13.1)\n",
      "Requirement already satisfied: mpmath<1.4,>=1.1.0 in c:\\users\\ximena\\appdata\\roaming\\python\\python312\\site-packages (from sympy==1.13.1->torch>=1.8.0->ultralytics) (1.3.0)\n",
      "Requirement already satisfied: colorama in c:\\users\\ximena\\appdata\\roaming\\python\\python312\\site-packages (from tqdm>=4.64.0->ultralytics) (0.4.6)\n",
      "Requirement already satisfied: six>=1.5 in c:\\users\\ximena\\appdata\\roaming\\python\\python312\\site-packages (from python-dateutil>=2.7->matplotlib>=3.3.0->ultralytics) (1.17.0)\n",
      "Requirement already satisfied: MarkupSafe>=2.0 in c:\\users\\ximena\\appdata\\roaming\\python\\python312\\site-packages (from jinja2->torch>=1.8.0->ultralytics) (3.0.2)\n"
     ]
    },
    {
     "name": "stderr",
     "output_type": "stream",
     "text": [
      "\n",
      "[notice] A new release of pip is available: 24.2 -> 25.0.1\n",
      "[notice] To update, run: python.exe -m pip install --upgrade pip\n"
     ]
    }
   ],
   "source": [
    "\n",
    "# Instalación de librerías\n",
    "!pip install ultralytics opencv-python\n"
   ]
  },
  {
   "cell_type": "markdown",
   "id": "0228dd92",
   "metadata": {},
   "source": [
    "Esta línea importa la clase YOLO del paquete ultralytics. Con esta clase se cargan modelos YOLO preentrenados o personalizados, para realizar tareas de Detección de objetos."
   ]
  },
  {
   "cell_type": "code",
   "execution_count": 2,
   "id": "0aed6307",
   "metadata": {},
   "outputs": [],
   "source": [
    "from ultralytics import YOLO"
   ]
  },
  {
   "cell_type": "markdown",
   "id": "1134ba2d",
   "metadata": {},
   "source": [
    "Importa la biblioteca OpenCV para Python, que se accede siempre como cv2. Esta biblioteca sirve para acceder a cámaras web para capturar video en tiempo real, leer imágenes o videos, mostrar imágenes en ventanas emergentes, detectar bordes, procesar píxeles etc."
   ]
  },
  {
   "cell_type": "code",
   "execution_count": 3,
   "id": "af348565",
   "metadata": {},
   "outputs": [],
   "source": [
    "import cv2"
   ]
  },
  {
   "cell_type": "markdown",
   "id": "a4857688",
   "metadata": {},
   "source": [
    "Carga el modelo YOLOv8 nano (yolov8n.pt), que es el más liviano y rápido. "
   ]
  },
  {
   "cell_type": "markdown",
   "id": "0670253c",
   "metadata": {},
   "source": [
    "Este modelo ya viene preentrenado en el conjunto de datos COCO, así que puede detectar objetos comunes como personas, autos, perros, etc."
   ]
  },
  {
   "cell_type": "code",
   "execution_count": 4,
   "id": "66a68418",
   "metadata": {},
   "outputs": [],
   "source": [
    "# Cargar modelo YOLOv8 (usa yolov8n.pt por ser más liviano)\n",
    "model = YOLO(\"yolov8n.pt\")  "
   ]
  },
  {
   "cell_type": "markdown",
   "id": "0f109832",
   "metadata": {},
   "source": [
    "Abre la cámara con índice 1. En este caso Iriun Webcam."
   ]
  },
  {
   "cell_type": "code",
   "execution_count": 5,
   "id": "cae477c8",
   "metadata": {},
   "outputs": [],
   "source": [
    "# Inicializar la cámara (0 es la cámara por defecto)\n",
    "cap = cv2.VideoCapture(1)"
   ]
  },
  {
   "cell_type": "markdown",
   "id": "22211473",
   "metadata": {},
   "source": [
    "Verifica si OpenCV logró abrir la cámara correctamente, si no fue posible, se imprime un mensaje de error y se sale del programa."
   ]
  },
  {
   "cell_type": "markdown",
   "id": "9e8cca12",
   "metadata": {},
   "source": [
    "Captura una tecla para saber cuándo salir (en este caso, al presionar la tecla q)."
   ]
  },
  {
   "cell_type": "code",
   "execution_count": 7,
   "id": "7fdc5fd2",
   "metadata": {},
   "outputs": [
    {
     "name": "stdout",
     "output_type": "stream",
     "text": [
      "Presiona 'q' para salir\n"
     ]
    }
   ],
   "source": [
    "# Comprobar que la cámara esté disponible\n",
    "if not cap.isOpened():\n",
    "    print(\"No se puede acceder a la cámara\")\n",
    "    exit()\n",
    "\n",
    "print(\"Presiona 'q' para salir\")"
   ]
  },
  {
   "cell_type": "code",
   "execution_count": 8,
   "id": "2f339b00",
   "metadata": {},
   "outputs": [],
   "source": [
    "#Inicia un bucle infinito que captura frames desde la cámara.\n",
    "#ret indica si la lectura fue exitosa.\n",
    "#frame contiene la imagen capturada.\n",
    "while True:\n",
    "    ret, frame = cap.read()\n",
    "\n",
    "#Si no se pudo leer un frame (por error de cámara), el bucle se rompe.\n",
    "    if not ret:\n",
    "        print(\"No se pudo leer el frame\")\n",
    "        break\n",
    "\n",
    "#Realizar detección en el frame.\n",
    "#verbose=False evita que se impriman logs innecesarios.\n",
    "#result.boxes contiene todas las cajas detectadas.\n",
    "#model.names tiene el nombre de cada clase por ID.\n",
    "    results = model(frame, verbose=False)\n",
    "    result = results[0]\n",
    "    boxes = result.boxes\n",
    "    names = model.names\n",
    "\n",
    "# Contador de objetos\n",
    "    contador = {}\n",
    "\n",
    "#Solo se tendrán en cuenta estos objetos.\n",
    "#Si se detecta algo fuera de esa lista, se ignora.\n",
    "    objetos_permitidos = [\"cell phone\", \"laptop\", \"tv\"]\n",
    "\n",
    "#Itera sobre todas las cajas de detección retornadas por el modelo.\n",
    "#Cada box contiene información sobre un objeto detectado: clase, confianza, posición, etc.\n",
    "    for box in boxes:\n",
    "        cls_id = int(box.cls[0])  #Obtiene el ID numérico de la clase detectada. \n",
    "        cls_name = names[cls_id]  #Traduce el ID numérico de la clase al nombre correspondiente, usando el diccionario model.names.\n",
    "\n",
    "        #Se usa para filtrar predicciones poco confiables.\n",
    "        conf = float(box.conf[0])  #Recupera el nivel de confianza del modelo en esa predicción (valor entre 0 y 1).\n",
    "\n",
    "        #Extrae las coordenadas de la caja que encierra el objeto detectado.\n",
    "        #(x1, y1) es la esquina superior izquierda.\n",
    "        #(x2, y2) es la esquina inferior derecha.\n",
    "        x1, y1, x2, y2 = map(int, box.xyxy[0]) #box.xyxy[0] devuelve un arreglo de 4 números con esas coordenadas. \n",
    "        #Se convierten a int para poder usarlas con OpenCV.\n",
    "\n",
    "        #Calcula el área de la caja de detección, para poder descartar objetos muy pequeños.\n",
    "        area = (x2 - x1) * (y2 - y1) \n",
    "\n",
    "       # Filtrar por tipo de objeto\n",
    "        if cls_name not in objetos_permitidos:\n",
    "            continue \n",
    "        \n",
    "        #Solo considera objetos con confianza ≥ 70%.\n",
    "        if conf < 0.7:\n",
    "            continue \n",
    "        \n",
    "        #Ignorar objetos demasiado pequeños\n",
    "        if area < 6000:\n",
    "            continue \n",
    "\n",
    "        #Ignorar personas\n",
    "        if cls_name == \"person\":\n",
    "            continue \n",
    "\n",
    "        #Usa un diccionario para llevar el conteo de cada clase detectada.\n",
    "        #Si el objeto ya fue contado, suma 1. Si no, lo inicia con 1.\n",
    "        contador[cls_name] = contador.get(cls_name, 0) + 1\n",
    "\n",
    "\n",
    "  # Dibujar caja y etiqueta \n",
    "        label = cls_name\n",
    "    #Dibuja un rectángulo verde alrededor del objeto detectado.\n",
    "        cv2.rectangle(frame, (x1, y1), (x2, y2), (0, 255, 0), 2)\n",
    "    #Muestra el nombre del objeto sobre la caja.\n",
    "        cv2.putText(frame, label, (x1, y1 - 10),\n",
    "                    cv2.FONT_HERSHEY_SIMPLEX, 0.6, (0, 0, 0), 2)\n",
    "\n",
    "    #En la esquina superior izquierda, muestra el número de objetos detectados por clase.\n",
    "    y_offset = 20\n",
    "\n",
    "    #Aquí se recorre el diccionario contador, que contiene el nombre de la clase  como clave y el total de veces que fue detectada como valor.\n",
    "    #Por ejemplo, si detectó 2 laptops y 1 celular, el diccionario sería: {\"laptop\": 2, \"cell phone\": 1}.\n",
    "    for clase, total in contador.items():\n",
    "\n",
    "    #Usa una f-string para combinar el nombre de la clase y el total detectado, por ejemplo: \"laptop: 2\".\n",
    "    #Se construye el texto que se mostrará en pantalla\n",
    "        texto = f\"{clase}: {total}\"\n",
    "\n",
    "    #Esta línea dibuja el texto en la imagen (frame). Con sus respectivas especificaciones.\n",
    "        cv2.putText(frame, texto, (10, y_offset),\n",
    "                    cv2.FONT_HERSHEY_SIMPLEX, 0.6, (255, 255, 255), 2)\n",
    "        y_offset += 20\n",
    "\n",
    "    #Abre una ventana para mostrar los resultados en tiempo real.\n",
    "    cv2.imshow(\"YOLOv8 Detección en Tiempo Real\", frame)\n",
    "\n",
    "    #Permite salir del bucle al presionar la tecla 'q'.\n",
    "    if cv2.waitKey(1) & 0xFF == ord('q'):\n",
    "        break\n",
    "\n",
    "#Cierra la cámara y destruye todas las ventanas abiertas de OpenCV.\n",
    "cap.release()\n",
    "cv2.destroyAllWindows()"
   ]
  }
 ],
 "metadata": {
  "kernelspec": {
   "display_name": "venv",
   "language": "python",
   "name": "python3"
  },
  "language_info": {
   "codemirror_mode": {
    "name": "ipython",
    "version": 3
   },
   "file_extension": ".py",
   "mimetype": "text/x-python",
   "name": "python",
   "nbconvert_exporter": "python",
   "pygments_lexer": "ipython3",
   "version": "3.12.6"
  }
 },
 "nbformat": 4,
 "nbformat_minor": 5
}
